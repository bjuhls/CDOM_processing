{
 "cells": [
  {
   "cell_type": "code",
   "execution_count": 1,
   "metadata": {
    "collapsed": false
   },
   "outputs": [
    {
     "name": "stdout",
     "output_type": "stream",
     "text": [
      "Chl a (mg/m3)\n",
      "Chl a-fluorescence [mg/m3]\n"
     ]
    }
   ],
   "source": [
    "import math\n",
    "import numpy as np\n",
    "import matplotlib.pyplot as plt\n",
    "import glob\n",
    "import os\n",
    "from scipy.optimize import curve_fit\n",
    "from mpl_toolkits.axes_grid1 import make_axes_locatable\n",
    "import matplotlib.patches as mpatches\n",
    "from matplotlib.patches import Patch\n",
    "from matplotlib.lines import Line2D\n",
    "\n",
    "#read Bennet CDOM Master Transdrift with ALL ABSORPTIONS\n",
    "Path_file_TD=\"/home/bjuhls/ownCloud/Paper_1/_work/CDOM-DOC_relationship/Data/original/ODV_Bennet_jens.csv\"\n",
    "data_TD=np.genfromtxt(Path_file_TD,delimiter=\",\", skip_header=1, usecols=range(0,641))\n",
    "data_TD_col= zip(*data_TD)\n",
    "header_read_td=np.genfromtxt(Path_file_TD,delimiter=\",\",usecols=range(0,641), dtype='str' )\n",
    "header_td=header_read_td[0]\n",
    "Str_Data = np.genfromtxt(Path_file_TD,delimiter=\",\",skip_header=1,usecols=range(0,641), dtype='str' )\n",
    "Str_Data_col= zip(*Str_Data)\n",
    "\n",
    "def cdomIndex(Ind):\n",
    "    Num = Ind + 90\n",
    "    return Num\n",
    "print header_td[39]\n",
    "print header_td[53]\n",
    "def Slope(ref_wl, start_wl, end_wl, cdom_data):\n",
    "    def fit_func_exp(x, a, b):\n",
    "        return a * np.exp(-b * (x-ref_wl))\n",
    "    x = range(start_wl, end_wl, 1)\n",
    "    y = cdom_data[(start_wl-200):(end_wl-200)]\n",
    "    params1_exp = curve_fit(fit_func_exp, x, y, method=\"lm\", p0 = (cdom_data[ref_wl],0.02))\n",
    "    return params1_exp[0][1]\n",
    "\n",
    "def Slope_const(ref_wl, start_wl, end_wl, cdom_data):\n",
    "    def fit_func_exp(x, a, b, c):\n",
    "        return a * np.exp(-b * (x-ref_wl)) + c\n",
    "    x = range(start_wl, end_wl, 1)\n",
    "    y = cdom_data[(start_wl-200):(end_wl-200)]\n",
    "    params1_exp = curve_fit(fit_func_exp, x, y, method=\"lm\")\n",
    "    #print params1_exp[0][2]\n",
    "    return params1_exp[0][1]\n",
    "\n",
    "def polyfit(x, y, degree):\n",
    "    results = {}\n",
    "    coeffs = np.polyfit(x, y, degree)\n",
    "     # Polynomial Coefficients\n",
    "    results['polynomial'] = coeffs.tolist()\n",
    "    # r-squared\n",
    "    p = np.poly1d(coeffs)\n",
    "    # fit values, and mean\n",
    "    yhat = p(x)                         # or [p(z) for z in x]\n",
    "    ybar = np.sum(y)/len(y)          # or sum(y)/len(y)\n",
    "    ssreg = np.sum((yhat-ybar)**2)   # or sum([ (yihat - ybar)**2 for yihat in yhat])\n",
    "    sstot = np.sum((y - ybar)**2)    # or sum([ (yi - ybar)**2 for yi in y])\n",
    "    results['determination'] = ssreg / sstot\n",
    "    return results\n"
   ]
  },
  {
   "cell_type": "code",
   "execution_count": 2,
   "metadata": {
    "collapsed": false
   },
   "outputs": [],
   "source": [
    "abs_offset=[]\n",
    "abs_raw=[]\n",
    "Slopes_raw=[]\n",
    "Slopes_off=[]\n",
    "Slopes_const=[]\n",
    "for line in data_TD[0:]:\n",
    "    raw=line[cdomIndex(0):cdomIndex(550)]\n",
    "    abs_raw.append(raw)\n",
    "    off=line[cdomIndex(480)]\n",
    "    abs_off= line[cdomIndex(0):cdomIndex(550)]-off\n",
    "    abs_offset.append(abs_off)\n",
    "    np_abs_offset=np.array(abs_offset)\n",
    "    np_abs_raw=np.array(abs_raw)\n",
    "    try:\n",
    "        Slopes_raw.append(Slope(285,275,295,raw))\n",
    "    except ValueError:\n",
    "        Slopes_raw.append(np.nan)\n",
    "    try:\n",
    "        Slopes_off.append(Slope(285,275,295,abs_off))\n",
    "    except ValueError:\n",
    "        Slopes_off.append(np.nan)\n",
    "    try:\n",
    "        Slopes_const.append(Slope_const(285,275,295,raw))\n",
    "    except (ValueError, RuntimeError) as e:\n",
    "        Slopes_const.append(np.nan)\n",
    "    np_Slopes_off=np.array(Slopes_off)\n",
    "    np_Slopes_raw=np.array(Slopes_raw)\n",
    "    np_Slopes_const=np.array(Slopes_const)\n",
    "            \n",
    "#except (IDontLikeYouException, YouAreBeingMeanException) as e:"
   ]
  },
  {
   "cell_type": "code",
   "execution_count": 11,
   "metadata": {
    "collapsed": false
   },
   "outputs": [],
   "source": [
    "### create new file and write data in it ### \n",
    "\n",
    "fp_datafile ='/home/bjuhls/ownCloud/Paper_1/Data/data_allStations.txt'\n",
    "datafile = open(fp_datafile, 'w')\n",
    "\n",
    "### wriing header\n",
    "datafile.write(\"Event,Station,Date/Time,Latitude,Longitude,Depth [m],Temp [°C],Salinity [psu],d18O [per mil SMOW],DOC/NPOC [µmol/L],CDOM S275-295 [nm^-1],Chl a (mg/m3),Chl a-fluorescence [mg/m3],fa [%],fi [%],fr [%],\")\n",
    "for e in np.arange(200,750,1):\n",
    "    datafile.write(\"aCDOM(\"+str(e) + \") [m^-1],\")\n",
    "datafile.write(\"\\n\")\n",
    "datafile.close()\n",
    "\n",
    "# opening file again and write each row\n",
    "datafile = open(fp_datafile, 'a')\n",
    "\n",
    "line_c=0 #row counter\n",
    "for line in data_TD[0:]: # iterating through every row\n",
    "    datafile.write(str(Str_Data[line_c][0]) + \",\" \n",
    "                    + str(Str_Data[line_c][1]) + \",\" \n",
    "                    + str(Str_Data[line_c][3]) + \",\" \n",
    "                    + str(data_TD[line_c][5]) + \",\" \n",
    "                    + str(data_TD[line_c][4]) + \",\"\n",
    "                    + str(data_TD[line_c][7]) + \",\" \n",
    "                    + str(data_TD[line_c][9]) + \",\" \n",
    "                    + str(data_TD[line_c][11]) + \",\" \n",
    "                    + str(data_TD[line_c][15]) + \",\"\n",
    "                    + str(data_TD[line_c][67]) + \",\"\n",
    "                    + str(data_TD[line_c][39]) + \",\"\n",
    "                    + str(data_TD[line_c][53]) + \",\"\n",
    "                    + str(data_TD[line_c][41]) + \",\"\n",
    "                    + str(data_TD[line_c][43]) + \",\"\n",
    "                    + str(data_TD[line_c][45]) + \",\"\n",
    "                    + str(Slopes_off[line_c]) + \",\"\n",
    "                    + \",\".join(map(str, abs_offset[line_c]))\n",
    "                    ) # writing parameters which are stored in different indizies in each row\n",
    "    datafile.write(\"\\n\") # writing absatz\n",
    "        \n",
    "    line_c+=1 # counting to next row\n",
    "datafile.close()   # close data file"
   ]
  },
  {
   "cell_type": "code",
   "execution_count": null,
   "metadata": {
    "collapsed": false
   },
   "outputs": [],
   "source": [
    "# line_c=0\n",
    "# for line in data_TD[0:]:\n",
    "#     if line[150]>-1:\n",
    "#         datafile.write(str(Str_Data[line_c][0]) + \",\" \n",
    "#                        + str(Str_Data[line_c][1]) + \",\" \n",
    "#                        + str(Str_Data[line_c][3]) + \",\" \n",
    "#                        + str(data_TD[line_c][5]) + \",\" \n",
    "#                        + str(data_TD[line_c][4]) + \",\"\n",
    "#                        + str(data_TD[line_c][7]) + \",\" \n",
    "#                        + str(data_TD[line_c][9]) + \",\" \n",
    "#                        + str(data_TD[line_c][11]) + \",\" \n",
    "#                        + str(data_TD[line_c][15]) + \",\"\n",
    "#                        + str(data_TD[line_c][67]) + \",\"\n",
    "#                        + str(data_TD[line_c][39]) + \",\"\n",
    "#                        + str(data_TD[line_c][53]) + \",\"\n",
    "#                        + str(data_TD[line_c][41]) + \",\"\n",
    "#                        + str(data_TD[line_c][43]) + \",\"\n",
    "#                        + str(data_TD[line_c][45]) + \",\"\n",
    "#                        + str(Slopes_off[line_c]) + \",\"\n",
    "#                        + \",\".join(map(str, abs_offset[line_c]))\n",
    "#                       )\n",
    "#         datafile.write(\"\\n\")\n",
    "        \n",
    "#     line_c+=1\n",
    "# datafile.close()    \n"
   ]
  },
  {
   "cell_type": "code",
   "execution_count": null,
   "metadata": {
    "collapsed": true
   },
   "outputs": [],
   "source": []
  },
  {
   "cell_type": "code",
   "execution_count": null,
   "metadata": {
    "collapsed": true
   },
   "outputs": [],
   "source": []
  }
 ],
 "metadata": {
  "kernelspec": {
   "display_name": "Python 2",
   "language": "python",
   "name": "python2"
  },
  "language_info": {
   "codemirror_mode": {
    "name": "ipython",
    "version": 2
   },
   "file_extension": ".py",
   "mimetype": "text/x-python",
   "name": "python",
   "nbconvert_exporter": "python",
   "pygments_lexer": "ipython2",
   "version": "2.7.13"
  }
 },
 "nbformat": 4,
 "nbformat_minor": 2
}
